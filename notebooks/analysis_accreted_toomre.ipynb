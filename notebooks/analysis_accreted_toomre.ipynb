{
 "cells": [
  {
   "cell_type": "code",
   "execution_count": 1,
   "metadata": {},
   "outputs": [],
   "source": [
    "import os\n",
    "import h5py\n",
    "\n",
    "import numpy as np\n",
    "import matplotlib.pyplot as plt\n",
    "import matplotlib as mpl\n",
    "import astropy.units as u\n",
    "import astropy.coordinates as coord\n",
    "\n",
    "%matplotlib inline\n",
    "plt.style.use('/jet/home/tvnguyen/mplstyle/default.mplstyle')"
   ]
  },
  {
   "cell_type": "code",
   "execution_count": 2,
   "metadata": {},
   "outputs": [],
   "source": [
    "plotdir = '/jet/home/tvnguyen/accreted_catalog/gaia_accreted_catalog/notebooks/figures'"
   ]
  },
  {
   "cell_type": "code",
   "execution_count": 4,
   "metadata": {},
   "outputs": [
    {
     "name": "stdout",
     "output_type": "stream",
     "text": [
      "Loading data from /ocean/projects/phy210068p/shared/gaia_catalogs/GaiaDR3_reduced_v1/data.0.hdf5 and /ocean/projects/phy210068p/shared/gaia_catalogs/GaiaDR3_reduced_v1/labels.0.hdf5\n",
      "Loading data from /ocean/projects/phy210068p/shared/gaia_catalogs/GaiaDR3_reduced_v1/data.1.hdf5 and /ocean/projects/phy210068p/shared/gaia_catalogs/GaiaDR3_reduced_v1/labels.1.hdf5\n",
      "Loading data from /ocean/projects/phy210068p/shared/gaia_catalogs/GaiaDR3_reduced_v1/data.2.hdf5 and /ocean/projects/phy210068p/shared/gaia_catalogs/GaiaDR3_reduced_v1/labels.2.hdf5\n",
      "Loading data from /ocean/projects/phy210068p/shared/gaia_catalogs/GaiaDR3_reduced_v1/data.3.hdf5 and /ocean/projects/phy210068p/shared/gaia_catalogs/GaiaDR3_reduced_v1/labels.3.hdf5\n",
      "Loading data from /ocean/projects/phy210068p/shared/gaia_catalogs/GaiaDR3_reduced_v1/data.4.hdf5 and /ocean/projects/phy210068p/shared/gaia_catalogs/GaiaDR3_reduced_v1/labels.4.hdf5\n",
      "Loading data from /ocean/projects/phy210068p/shared/gaia_catalogs/GaiaDR3_reduced_v1/data.5.hdf5 and /ocean/projects/phy210068p/shared/gaia_catalogs/GaiaDR3_reduced_v1/labels.5.hdf5\n",
      "Loading data from /ocean/projects/phy210068p/shared/gaia_catalogs/GaiaDR3_reduced_v1/data.6.hdf5 and /ocean/projects/phy210068p/shared/gaia_catalogs/GaiaDR3_reduced_v1/labels.6.hdf5\n",
      "Loading data from /ocean/projects/phy210068p/shared/gaia_catalogs/GaiaDR3_reduced_v1/data.7.hdf5 and /ocean/projects/phy210068p/shared/gaia_catalogs/GaiaDR3_reduced_v1/labels.7.hdf5\n",
      "Loading data from /ocean/projects/phy210068p/shared/gaia_catalogs/GaiaDR3_reduced_v1/data.8.hdf5 and /ocean/projects/phy210068p/shared/gaia_catalogs/GaiaDR3_reduced_v1/labels.8.hdf5\n",
      "Loading data from /ocean/projects/phy210068p/shared/gaia_catalogs/GaiaDR3_reduced_v1/data.9.hdf5 and /ocean/projects/phy210068p/shared/gaia_catalogs/GaiaDR3_reduced_v1/labels.9.hdf5\n"
     ]
    }
   ],
   "source": [
    "catalog_root = '/ocean/projects/phy210068p/shared/gaia_catalogs/'\n",
    "catalog_name = 'GaiaDR3_reduced_v1'\n",
    "features = ('ra', 'dec', 'pmra', 'pmdec', 'parallax', 'radial_velocity')\n",
    "\n",
    "catalog = {k: [] for k in features}\n",
    "catalog['score'] = []\n",
    "catalog['index'] = []\n",
    "for i in range(10):\n",
    "    data_path = os.path.join(catalog_root, catalog_name, f'data.{i}.hdf5')\n",
    "    labels_path = os.path.join(catalog_root, catalog_name, f'labels.{i}.hdf5')\n",
    "    print(f'Loading data from {data_path} and {labels_path}')\n",
    "\n",
    "    with h5py.File(labels_path, 'r') as f:\n",
    "        score = f['score'][:]\n",
    "        label_source_id = f['source_id'][:]\n",
    "        index = f['index'][:]\n",
    "    catalog['score'].append(score)\n",
    "    catalog['index'].append(index)\n",
    "\n",
    "    with h5py.File(data_path, 'r') as f:\n",
    "        for k in features:\n",
    "            catalog[k].append(f[k][:][index])  # not f[k][index] because it is slower for some reason\n",
    "\n",
    "for key in catalog:\n",
    "    catalog[key] = np.concatenate(catalog[key], axis=0)"
   ]
  },
  {
   "cell_type": "code",
   "execution_count": 15,
   "metadata": {},
   "outputs": [],
   "source": [
    "# convert from RA, Dec, parallax, pmra, pmdec, radial_velocity to Galactic coordinates\n",
    "distance = coord.Distance(parallax=catalog['parallax']*u.mas).to(u.kpc)\n",
    "c = coord.SkyCoord(\n",
    "    ra=catalog['ra']*u.deg, dec=catalog['dec']*u.deg,\n",
    "    pm_ra_cosdec=catalog['pmra']*u.mas/u.yr, pm_dec=catalog['pmdec']*u.mas/u.yr,\n",
    "    radial_velocity=catalog['radial_velocity']*u.km/u.s,\n",
    "    distance=distance,\n",
    "    frame='icrs',\n",
    ")\n",
    "gal = c.transform_to(coord.Galactic)"
   ]
  },
  {
   "cell_type": "code",
   "execution_count": 18,
   "metadata": {},
   "outputs": [],
   "source": [
    "# convert from RA, Dec, parallax, pmra, pmdec, radial_velocity to Galactic coordinates\n",
    "distance = coord.Distance(parallax=catalog['parallax']*u.mas).to(u.kpc)\n",
    "c = coord.SkyCoord(\n",
    "    ra=catalog['ra']*u.deg, dec=catalog['dec']*u.deg,\n",
    "    pm_ra_cosdec=catalog['pmra']*u.mas/u.yr, pm_dec=catalog['pmdec']*u.mas/u.yr,\n",
    "    radial_velocity=catalog['radial_velocity']*u.km/u.s,\n",
    "    distance=distance,\n",
    "    frame='icrs',\n",
    ")\n",
    "gal = c.transform_to(coord.Galactic)\n",
    "\n",
    "cartesian_d = gal.cartesian.differentials['s']\n",
    "vx = cartesian_d.d_x.to_value(u.km / u.s)\n",
    "vy = cartesian_d.d_y.to_value(u.km / u.s)\n",
    "vz = cartesian_d.d_z.to_value(u.km / u.s)\n",
    "vperp = np.sqrt(vx**2 + vz**2)\n",
    "vrot = vy + 224.7092"
   ]
  },
  {
   "cell_type": "code",
   "execution_count": 22,
   "metadata": {},
   "outputs": [],
   "source": [
    "# Calculate 2D vperp and vrot distribution\n",
    "bins = (1000, 500)\n",
    "hist_range = ((-500, 500), (0, 500))\n",
    "# unweighted\n",
    "C, xedges, yedges = np.histogram2d(vrot, vperp, bins, range=hist_range)\n",
    "\n",
    "# calculate grid and unit area\n",
    "X, Y = np.meshgrid(xedges, yedges)\n",
    "dx = xedges[1] - xedges[0]\n",
    "dy = yedges[1] - yedges[0]\n",
    "dA = dx * dy"
   ]
  },
  {
   "cell_type": "code",
   "execution_count": 23,
   "metadata": {},
   "outputs": [],
   "source": [
    "# Plot the Toomre diagram\n",
    "fig, ax = plt.subplots(1, figsize=(16, 8))\n",
    "\n",
    "# plot unweighted Toomre diagram\n",
    "vmin = 1e0\n",
    "vmax = 1e3\n",
    "norm = mpl.colors.LogNorm(vmin=vmin, vmax=vmax, clip=False)\n",
    "C_new = C.copy() / dA\n",
    "C_new[C_new < vmin] = 0\n",
    "\n",
    "im = ax.pcolormesh(X, Y, C_new.T, norm=norm, shading='auto')\n",
    "ax.set_xlim(-500, 500)\n",
    "ax.set_ylim(0, 500)\n",
    "ax.set_xlabel(r'$V_Y$ [km/s]')\n",
    "ax.set_ylabel(r'$\\sqrt{V_X^2 + V_Z^2}$ [km/s]')\n",
    "ax.set_xticks([-500, -250, 0, 250, 500])\n",
    "ax.set_yticks([100, 200, 300, 400])\n",
    "\n",
    "# add colorbar\n",
    "cbar = plt.colorbar(\n",
    "    im, ax=ax, label='Counts (km/s)$^{-2}$',\n",
    "    orientation=\"horizontal\", pad=0.15\n",
    ")\n",
    "cbar.ax.xaxis.set_tick_params(which='both', direction='out')\n",
    "\n",
    "plt.show()\n",
    "fig.savefig(\n",
    "    os.path.join(plotdir, 'toomre_diagram.png'), dpi=300, \n",
    "    bbox_inches='tight'))"
   ]
  }
 ],
 "metadata": {
  "kernelspec": {
   "display_name": "Python 3 (ipykernel)",
   "language": "python",
   "name": "python3"
  },
  "orig_nbformat": 4
 },
 "nbformat": 4,
 "nbformat_minor": 2
}
