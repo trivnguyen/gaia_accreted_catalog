{
 "cells": [
  {
   "cell_type": "code",
   "execution_count": 1,
   "metadata": {},
   "outputs": [],
   "source": [
    "%load_ext autoreload\n",
    "%autoreload 2\n",
    "\n",
    "import os\n",
    "import pickle\n",
    "import sys\n",
    "import shutil\n",
    "import h5py\n",
    "\n",
    "sys.path.append('/jet/home/tvnguyen/accreted_catalog/gaia_accreted_catalog')\n",
    "\n",
    "import ml_collections\n",
    "import numpy as np\n",
    "import scipy.special as special\n",
    "import seaborn as sns\n",
    "import matplotlib as mpl\n",
    "import matplotlib.pyplot as plt\n",
    "import pytorch_lightning as pl\n",
    "import pytorch_lightning.loggers as pl_loggers\n",
    "import torch\n",
    "import torch.nn.functional as F\n",
    "from torch.utils.data import DataLoader, TensorDataset, Subset\n",
    "from ml_collections import config_flags\n",
    "from memory_profiler import profile\n",
    "\n",
    "import datasets\n",
    "from models import models, classifier, utils, infer_utils\n",
    "\n",
    "%matplotlib inline\n",
    "plt.style.use('/jet/home/tvnguyen/mplstyle/default.mplstyle')"
   ]
  },
  {
   "cell_type": "code",
   "execution_count": 11,
   "metadata": {},
   "outputs": [],
   "source": [
    "# read in the model\n",
    "logdir = '/ocean/projects/phy210068p/tvnguyen/accreted_catalog/logging'\n",
    "name = 'greasy-vote-10'\n",
    "checkpoint = 'epoch=51-step=1100164.ckpt'\n",
    "device = torch.device('cuda' if torch.cuda.is_available() else 'cpu')\n",
    "\n",
    "# read in the dataset and prepare the data loader for training\n",
    "data_root = '/ocean/projects/phy210068p/tvnguyen/accreted_catalog/datasets'\n",
    "data_name = 'GaiaDR3_transfer'\n",
    "data_features = ['ra', 'dec', 'pmra', 'pmdec', 'parallax', 'radial_velocity']\n",
    "data_dir = os.path.join(data_root, data_name)\n",
    "\n",
    "# catalog name\n",
    "catalog_root = '/ocean/projects/phy210068p/tvnguyen/accreted_catalog/gaia_catalogs'\n",
    "catalog_name = 'GaiaDR3_FeH_reduced_v1'"
   ]
  },
  {
   "cell_type": "code",
   "execution_count": 12,
   "metadata": {},
   "outputs": [],
   "source": [
    "checkpoint_path = os.path.join(logdir, name, 'lightning_logs/checkpoints', checkpoint)\n",
    "model = classifier.MLPClassifier.load_from_checkpoint(\n",
    "    checkpoint_path, map_location=device)"
   ]
  },
  {
   "cell_type": "code",
   "execution_count": 13,
   "metadata": {},
   "outputs": [],
   "source": [
    "def read_dataset(data_fn, features):\n",
    "    \"\"\" Read in the dataset from the hdf5 file. \"\"\"\n",
    "    x = []\n",
    "    with h5py.File(data_fn, 'r') as f:\n",
    "        if features is not None:\n",
    "            # if radial velocity is in the features, get only the stars with\n",
    "            # availabel radial velocity\n",
    "            if 'radial_velocity' in features:\n",
    "                mask = ~np.isnan(f['radial_velocity'][:])\n",
    "            else:\n",
    "                mask = np.ones(len(f['ra']), dtype=bool)\n",
    "            for feature in features:\n",
    "                x.append(f[feature][mask])\n",
    "\n",
    "    x = np.stack(x, axis=-1) if len(x) > 0 else None\n",
    "    y = np.zeros(len(x), dtype=bool)\n",
    "    return x, y"
   ]
  },
  {
   "cell_type": "code",
   "execution_count": 14,
   "metadata": {},
   "outputs": [
    {
     "name": "stdout",
     "output_type": "stream",
     "text": [
      "Reading data from /ocean/projects/phy210068p/tvnguyen/accreted_catalog/datasets/GaiaDR3_transfer/data.0.hdf5\n"
     ]
    },
    {
     "name": "stderr",
     "output_type": "stream",
     "text": [
      "Inferencing: 100%|████████████████████████████████████████████████████| 931/931 [00:07<00:00, 131.57it/s]\n"
     ]
    },
    {
     "name": "stdout",
     "output_type": "stream",
     "text": [
      "Reading data from /ocean/projects/phy210068p/tvnguyen/accreted_catalog/datasets/GaiaDR3_transfer/data.1.hdf5\n"
     ]
    },
    {
     "name": "stderr",
     "output_type": "stream",
     "text": [
      "Inferencing: 100%|████████████████████████████████████████████████████| 966/966 [00:07<00:00, 129.78it/s]\n"
     ]
    },
    {
     "name": "stdout",
     "output_type": "stream",
     "text": [
      "Reading data from /ocean/projects/phy210068p/tvnguyen/accreted_catalog/datasets/GaiaDR3_transfer/data.2.hdf5\n"
     ]
    },
    {
     "name": "stderr",
     "output_type": "stream",
     "text": [
      "Inferencing: 100%|██████████████████████████████████████████████████| 1671/1671 [00:13<00:00, 128.41it/s]\n"
     ]
    },
    {
     "name": "stdout",
     "output_type": "stream",
     "text": [
      "Reading data from /ocean/projects/phy210068p/tvnguyen/accreted_catalog/datasets/GaiaDR3_transfer/data.3.hdf5\n"
     ]
    },
    {
     "name": "stderr",
     "output_type": "stream",
     "text": [
      "Inferencing: 100%|██████████████████████████████████████████████████| 2834/2834 [00:22<00:00, 126.74it/s]\n"
     ]
    },
    {
     "name": "stdout",
     "output_type": "stream",
     "text": [
      "Reading data from /ocean/projects/phy210068p/tvnguyen/accreted_catalog/datasets/GaiaDR3_transfer/data.4.hdf5\n"
     ]
    },
    {
     "name": "stderr",
     "output_type": "stream",
     "text": [
      "Inferencing: 100%|█████████████████████████████████████████| 2862/2862 [00:22<00:00, 127.10it/s]\n"
     ]
    },
    {
     "name": "stdout",
     "output_type": "stream",
     "text": [
      "Reading data from /ocean/projects/phy210068p/tvnguyen/accreted_catalog/datasets/GaiaDR3_transfer/data.5.hdf5\n"
     ]
    },
    {
     "name": "stderr",
     "output_type": "stream",
     "text": [
      "Inferencing: 100%|█████████████████████████████████████████| 2852/2852 [00:22<00:00, 126.72it/s]\n"
     ]
    },
    {
     "name": "stdout",
     "output_type": "stream",
     "text": [
      "Reading data from /ocean/projects/phy210068p/tvnguyen/accreted_catalog/datasets/GaiaDR3_transfer/data.6.hdf5\n"
     ]
    },
    {
     "name": "stderr",
     "output_type": "stream",
     "text": [
      "Inferencing: 100%|█████████████████████████████████████████| 2848/2848 [00:22<00:00, 126.72it/s]\n"
     ]
    },
    {
     "name": "stdout",
     "output_type": "stream",
     "text": [
      "Reading data from /ocean/projects/phy210068p/tvnguyen/accreted_catalog/datasets/GaiaDR3_transfer/data.7.hdf5\n"
     ]
    },
    {
     "name": "stderr",
     "output_type": "stream",
     "text": [
      "Inferencing: 100%|█████████████████████████████████████████| 2844/2844 [00:22<00:00, 125.77it/s]\n"
     ]
    },
    {
     "name": "stdout",
     "output_type": "stream",
     "text": [
      "Reading data from /ocean/projects/phy210068p/tvnguyen/accreted_catalog/datasets/GaiaDR3_transfer/data.8.hdf5\n"
     ]
    },
    {
     "name": "stderr",
     "output_type": "stream",
     "text": [
      "Inferencing: 100%|█████████████████████████████████████████| 2850/2850 [00:22<00:00, 126.31it/s]\n"
     ]
    },
    {
     "name": "stdout",
     "output_type": "stream",
     "text": [
      "Reading data from /ocean/projects/phy210068p/tvnguyen/accreted_catalog/datasets/GaiaDR3_transfer/data.9.hdf5\n"
     ]
    },
    {
     "name": "stderr",
     "output_type": "stream",
     "text": [
      "Inferencing: 100%|█████████████████████████████████████████| 2852/2852 [00:22<00:00, 126.05it/s]\n"
     ]
    }
   ],
   "source": [
    "for i in range(10):\n",
    "    \n",
    "    data_fn = os.path.join(data_dir, f'data.{i}.hdf5')\n",
    "    print(f'Reading data from {data_fn}')\n",
    "\n",
    "    features, labels = read_dataset(data_fn, data_features)\n",
    "    features = torch.tensor(features, dtype=torch.float32)\n",
    "    labels = torch.tensor(labels, dtype=torch.long)\n",
    "    data_loader = DataLoader(\n",
    "        TensorDataset(features, labels), batch_size=1024, shuffle=False)\n",
    "\n",
    "    # inference \n",
    "    y_pred, y_true = infer_utils.infer(\n",
    "        model, data_loader, softmax=False, to_numpy=True)\n",
    "    y_pred_score = special.softmax(y_pred, axis=1)\n",
    "    y_pred_score = y_pred_score[..., 1]\n",
    "\n",
    "    # save the results\n",
    "    results = {\n",
    "        'y_true': y_true,\n",
    "        'y_pred': y_pred,\n",
    "        'y_pred_score': y_pred_score,\n",
    "    }\n",
    "    catalog_path = os.path.join(catalog_root, catalog_name, f'results.{i}.pkl')\n",
    "    os.makedirs(os.path.dirname(catalog_path), exist_ok=True)\n",
    "    with open(catalog_path, 'wb') as f:\n",
    "        pickle.dump(results, f)"
   ]
  }
 ],
 "metadata": {
  "kernelspec": {
   "display_name": "Python 3 (ipykernel)",
   "language": "python",
   "name": "python3"
  },
  "orig_nbformat": 4
 },
 "nbformat": 4,
 "nbformat_minor": 2
}
